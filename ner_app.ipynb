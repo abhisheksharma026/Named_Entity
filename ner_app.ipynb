{
 "cells": [
  {
   "cell_type": "code",
   "execution_count": 1,
   "metadata": {},
   "outputs": [
    {
     "name": "stdout",
     "output_type": "stream",
     "text": [
      "C:\\Users\\Abhishek\\Named_Entity\\templates\n"
     ]
    }
   ],
   "source": [
    "from flask import Flask,render_template,url_for,request\n",
    "import re\n",
    "import pandas as pd\n",
    "import spacy\n",
    "from spacy import displacy\n",
    "import en_core_web_sm\n",
    "nlp = spacy.load('en_core_web_sm')\n",
    "import os\n",
    "\n",
    "template_dir = os.path.abspath('templates')\n",
    "print(template_dir)\n",
    "app = Flask(__name__, template_folder=template_dir)\n",
    "\n",
    "#app = Flask(__name__)"
   ]
  },
  {
   "cell_type": "code",
   "execution_count": null,
   "metadata": {},
   "outputs": [
    {
     "name": "stdout",
     "output_type": "stream",
     "text": [
      " * Serving Flask app \"__main__\" (lazy loading)\n",
      " * Environment: production\n",
      "   WARNING: This is a development server. Do not use it in a production deployment.\n",
      "   Use a production WSGI server instead.\n",
      " * Debug mode: on\n"
     ]
    },
    {
     "name": "stderr",
     "output_type": "stream",
     "text": [
      " * Running on http://127.0.0.1:8000/ (Press CTRL+C to quit)\n",
      "127.0.0.1 - - [17/Aug/2019 20:01:50] \"GET / HTTP/1.1\" 200 -\n",
      "127.0.0.1 - - [17/Aug/2019 20:01:50] \"GET /change.css HTTP/1.1\" 404 -\n",
      "127.0.0.1 - - [17/Aug/2019 20:01:50] \"GET /main.css HTTP/1.1\" 404 -\n",
      "127.0.0.1 - - [17/Aug/2019 20:01:50] \"GET /main.js HTTP/1.1\" 404 -\n",
      "127.0.0.1 - - [17/Aug/2019 20:01:50] \"GET /main.js HTTP/1.1\" 404 -\n",
      "127.0.0.1 - - [17/Aug/2019 20:02:37] \"POST /predict HTTP/1.1\" 200 -\n",
      "127.0.0.1 - - [17/Aug/2019 20:02:37] \"GET /change.css HTTP/1.1\" 404 -\n",
      "127.0.0.1 - - [17/Aug/2019 20:02:37] \"GET /main.css HTTP/1.1\" 404 -\n",
      "127.0.0.1 - - [17/Aug/2019 20:02:37] \"GET /main.js HTTP/1.1\" 404 -\n",
      "127.0.0.1 - - [17/Aug/2019 20:03:07] \"POST /predict HTTP/1.1\" 200 -\n",
      "127.0.0.1 - - [17/Aug/2019 20:03:07] \"GET /change.css HTTP/1.1\" 404 -\n",
      "127.0.0.1 - - [17/Aug/2019 20:03:07] \"GET /main.css HTTP/1.1\" 404 -\n",
      "127.0.0.1 - - [17/Aug/2019 20:03:07] \"GET /main.js HTTP/1.1\" 404 -\n"
     ]
    }
   ],
   "source": [
    "@app.route('/')\n",
    "def index():\n",
    "    return render_template(\"index.html\")\n",
    "\n",
    "@app.route('/predict',methods=[\"POST\"])\n",
    "def process():\n",
    "    if request.method == 'POST':\n",
    "        choice = request.form['taskoption']\n",
    "        rawtext = request.form['textdata']\n",
    "        doc = nlp(rawtext)\n",
    "        d = []\n",
    "        for ent in doc.ents:\n",
    "            d.append((ent.label_, ent.text))\n",
    "            df = pd.DataFrame(d, columns=('named entity', 'output'))\n",
    "            ORG_named_entity = df.loc[df['named entity'] == 'ORG']['output']\n",
    "            PERSON_named_entity = df.loc[df['named entity'] == 'PERSON']['output']\n",
    "            GPE_named_entity = df.loc[df['named entity'] == 'GPE']['output']\n",
    "            MONEY_named_entity = df.loc[df['named entity'] == 'MONEY']['output']\n",
    "            PRODUCT_named_entity = df.loc[df['named entity'] == 'PRODUCT']['output']\n",
    "        if choice == 'organization':\n",
    "            results = ORG_named_entity\n",
    "            num_of_results = len(results)\n",
    "        elif choice == 'person':\n",
    "            results = PERSON_named_entity\n",
    "            num_of_results = len(results)\n",
    "        elif choice == 'geopolitical':\n",
    "            results = GPE_named_entity\n",
    "            num_of_results = len(results)\n",
    "        elif choice == 'money':\n",
    "            results = MONEY_named_entity\n",
    "            num_of_results = len(results)\n",
    "        elif choice == 'product':\n",
    "            results = PRODUCT_named_entity\n",
    "            num_of_results = len(results)\n",
    "\n",
    "    return render_template(\"index.html\",results=results,num_of_results = num_of_results)\n",
    "\n",
    "# created with the help of knowledge shared by Susan Li\n",
    "if __name__ == '__main__':\n",
    "    app.run(port = 8000, debug=True, use_reloader=False)"
   ]
  },
  {
   "cell_type": "code",
   "execution_count": null,
   "metadata": {},
   "outputs": [],
   "source": [
    "%tb"
   ]
  }
 ],
 "metadata": {
  "kernelspec": {
   "display_name": "tf_gpu",
   "language": "python",
   "name": "tf_gpu"
  },
  "language_info": {
   "codemirror_mode": {
    "name": "ipython",
    "version": 3
   },
   "file_extension": ".py",
   "mimetype": "text/x-python",
   "name": "python",
   "nbconvert_exporter": "python",
   "pygments_lexer": "ipython3",
   "version": "3.7.3"
  }
 },
 "nbformat": 4,
 "nbformat_minor": 2
}
